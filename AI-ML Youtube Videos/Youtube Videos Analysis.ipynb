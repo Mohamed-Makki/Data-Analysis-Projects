{
 "cells": [
  {
   "cell_type": "code",
   "execution_count": 1,
   "metadata": {},
   "outputs": [],
   "source": [
    "# import libraries\n",
    "import numpy as np\n",
    "import pandas as pd\n",
    "import matplotlib.pyplot as plt\n",
    "import seaborn as sns\n",
    "import datetime as dt\n",
    "%matplotlib inline"
   ]
  },
  {
   "cell_type": "code",
   "execution_count": 2,
   "metadata": {},
   "outputs": [],
   "source": [
    "import pandas as pd\n",
    "import pygwalker as pyg"
   ]
  },
  {
   "cell_type": "code",
   "execution_count": 3,
   "metadata": {},
   "outputs": [],
   "source": [
    "# load the data using pandas \n",
    "data = pd.read_csv('D:/newai/Data Analysis Project/AI-ML Youtube Videos/AI_ML_YT_Videos.csv')"
   ]
  },
  {
   "cell_type": "code",
   "execution_count": 5,
   "metadata": {},
   "outputs": [
    {
     "data": {
      "text/html": [
       "<div>\n",
       "<style scoped>\n",
       "    .dataframe tbody tr th:only-of-type {\n",
       "        vertical-align: middle;\n",
       "    }\n",
       "\n",
       "    .dataframe tbody tr th {\n",
       "        vertical-align: top;\n",
       "    }\n",
       "\n",
       "    .dataframe thead th {\n",
       "        text-align: right;\n",
       "    }\n",
       "</style>\n",
       "<table border=\"1\" class=\"dataframe\">\n",
       "  <thead>\n",
       "    <tr style=\"text-align: right;\">\n",
       "      <th></th>\n",
       "      <th>Unnamed: 0</th>\n",
       "      <th>Channel</th>\n",
       "      <th>Title</th>\n",
       "      <th>PublishedDate</th>\n",
       "      <th>Views</th>\n",
       "      <th>Likes</th>\n",
       "      <th>Comments</th>\n",
       "    </tr>\n",
       "  </thead>\n",
       "  <tbody>\n",
       "    <tr>\n",
       "      <th>0</th>\n",
       "      <td>0</td>\n",
       "      <td>Jeff Heaton</td>\n",
       "      <td>LSTM-Based Time Series with PyTorch (10.2)</td>\n",
       "      <td>2023-10-27</td>\n",
       "      <td>764</td>\n",
       "      <td>45</td>\n",
       "      <td>1</td>\n",
       "    </tr>\n",
       "    <tr>\n",
       "      <th>1</th>\n",
       "      <td>1</td>\n",
       "      <td>Jeff Heaton</td>\n",
       "      <td>Time Series Data Encoding for Deep Learning, P...</td>\n",
       "      <td>2023-10-26</td>\n",
       "      <td>530</td>\n",
       "      <td>31</td>\n",
       "      <td>1</td>\n",
       "    </tr>\n",
       "    <tr>\n",
       "      <th>2</th>\n",
       "      <td>2</td>\n",
       "      <td>Jeff Heaton</td>\n",
       "      <td>Bayesian Hyperparameter Optimization for PyTor...</td>\n",
       "      <td>2023-10-25</td>\n",
       "      <td>453</td>\n",
       "      <td>29</td>\n",
       "      <td>1</td>\n",
       "    </tr>\n",
       "    <tr>\n",
       "      <th>3</th>\n",
       "      <td>3</td>\n",
       "      <td>Jeff Heaton</td>\n",
       "      <td>Creating Certificates to Deploy PyInstaller Py...</td>\n",
       "      <td>2023-10-17</td>\n",
       "      <td>439</td>\n",
       "      <td>12</td>\n",
       "      <td>0</td>\n",
       "    </tr>\n",
       "    <tr>\n",
       "      <th>4</th>\n",
       "      <td>4</td>\n",
       "      <td>Jeff Heaton</td>\n",
       "      <td>How Should you Architect Your PyTorch Neural N...</td>\n",
       "      <td>2023-10-12</td>\n",
       "      <td>825</td>\n",
       "      <td>39</td>\n",
       "      <td>1</td>\n",
       "    </tr>\n",
       "  </tbody>\n",
       "</table>\n",
       "</div>"
      ],
      "text/plain": [
       "   Unnamed: 0      Channel                                              Title  \\\n",
       "0           0  Jeff Heaton         LSTM-Based Time Series with PyTorch (10.2)   \n",
       "1           1  Jeff Heaton  Time Series Data Encoding for Deep Learning, P...   \n",
       "2           2  Jeff Heaton  Bayesian Hyperparameter Optimization for PyTor...   \n",
       "3           3  Jeff Heaton  Creating Certificates to Deploy PyInstaller Py...   \n",
       "4           4  Jeff Heaton  How Should you Architect Your PyTorch Neural N...   \n",
       "\n",
       "  PublishedDate  Views  Likes  Comments  \n",
       "0    2023-10-27    764     45         1  \n",
       "1    2023-10-26    530     31         1  \n",
       "2    2023-10-25    453     29         1  \n",
       "3    2023-10-17    439     12         0  \n",
       "4    2023-10-12    825     39         1  "
      ]
     },
     "execution_count": 5,
     "metadata": {},
     "output_type": "execute_result"
    }
   ],
   "source": [
    "data.head()"
   ]
  },
  {
   "cell_type": "code",
   "execution_count": 6,
   "metadata": {},
   "outputs": [
    {
     "data": {
      "text/plain": [
       "(6151, 7)"
      ]
     },
     "execution_count": 6,
     "metadata": {},
     "output_type": "execute_result"
    }
   ],
   "source": [
    "data.shape"
   ]
  },
  {
   "cell_type": "code",
   "execution_count": 7,
   "metadata": {},
   "outputs": [
    {
     "name": "stdout",
     "output_type": "stream",
     "text": [
      "<class 'pandas.core.frame.DataFrame'>\n",
      "RangeIndex: 6151 entries, 0 to 6150\n",
      "Data columns (total 7 columns):\n",
      " #   Column         Non-Null Count  Dtype \n",
      "---  ------         --------------  ----- \n",
      " 0   Unnamed: 0     6151 non-null   int64 \n",
      " 1   Channel        6151 non-null   object\n",
      " 2   Title          6151 non-null   object\n",
      " 3   PublishedDate  6151 non-null   object\n",
      " 4   Views          6151 non-null   int64 \n",
      " 5   Likes          6151 non-null   int64 \n",
      " 6   Comments       6151 non-null   int64 \n",
      "dtypes: int64(4), object(3)\n",
      "memory usage: 336.5+ KB\n"
     ]
    }
   ],
   "source": [
    "data.info()"
   ]
  },
  {
   "cell_type": "markdown",
   "metadata": {},
   "source": [
    "# Cleaning data"
   ]
  },
  {
   "cell_type": "code",
   "execution_count": 8,
   "metadata": {},
   "outputs": [],
   "source": [
    "# drop column Unnamed: 0 has not values important\n",
    "data.drop(columns=['Unnamed: 0'], axis=1, inplace=True)"
   ]
  },
  {
   "cell_type": "code",
   "execution_count": 9,
   "metadata": {},
   "outputs": [],
   "source": [
    "# convert data type for column PublishedDate from object to datetime\n",
    "data['PublishedDate'] = pd.to_datetime(data['PublishedDate'])"
   ]
  },
  {
   "cell_type": "code",
   "execution_count": 10,
   "metadata": {},
   "outputs": [
    {
     "name": "stdout",
     "output_type": "stream",
     "text": [
      "<class 'pandas.core.frame.DataFrame'>\n",
      "RangeIndex: 6151 entries, 0 to 6150\n",
      "Data columns (total 6 columns):\n",
      " #   Column         Non-Null Count  Dtype         \n",
      "---  ------         --------------  -----         \n",
      " 0   Channel        6151 non-null   object        \n",
      " 1   Title          6151 non-null   object        \n",
      " 2   PublishedDate  6151 non-null   datetime64[ns]\n",
      " 3   Views          6151 non-null   int64         \n",
      " 4   Likes          6151 non-null   int64         \n",
      " 5   Comments       6151 non-null   int64         \n",
      "dtypes: datetime64[ns](1), int64(3), object(2)\n",
      "memory usage: 288.5+ KB\n"
     ]
    }
   ],
   "source": [
    "data.info()"
   ]
  },
  {
   "cell_type": "code",
   "execution_count": 11,
   "metadata": {},
   "outputs": [
    {
     "data": {
      "text/plain": [
       "Channel          0\n",
       "Title            0\n",
       "PublishedDate    0\n",
       "Views            0\n",
       "Likes            0\n",
       "Comments         0\n",
       "dtype: int64"
      ]
     },
     "execution_count": 11,
     "metadata": {},
     "output_type": "execute_result"
    }
   ],
   "source": [
    "data.isna().sum()"
   ]
  },
  {
   "cell_type": "code",
   "execution_count": 12,
   "metadata": {},
   "outputs": [
    {
     "data": {
      "text/plain": [
       "0"
      ]
     },
     "execution_count": 12,
     "metadata": {},
     "output_type": "execute_result"
    }
   ],
   "source": [
    "# Checking the duplicates values in the data\n",
    "data.duplicated().sum()"
   ]
  },
  {
   "cell_type": "code",
   "execution_count": 13,
   "metadata": {},
   "outputs": [
    {
     "data": {
      "text/html": [
       "<style type=\"text/css\">\n",
       "#T_f179f_row0_col1, #T_f179f_row2_col1, #T_f179f_row2_col2, #T_f179f_row2_col3, #T_f179f_row3_col1, #T_f179f_row3_col2, #T_f179f_row3_col3 {\n",
       "  background-color: #008000;\n",
       "  color: #f1f1f1;\n",
       "}\n",
       "#T_f179f_row0_col2 {\n",
       "  background-color: #005c18;\n",
       "  color: #f1f1f1;\n",
       "}\n",
       "#T_f179f_row0_col3, #T_f179f_row6_col1, #T_f179f_row6_col2 {\n",
       "  background-color: #ffffff;\n",
       "  color: #000000;\n",
       "}\n",
       "#T_f179f_row1_col1, #T_f179f_row5_col1 {\n",
       "  background-color: #007a04;\n",
       "  color: #f1f1f1;\n",
       "}\n",
       "#T_f179f_row1_col2, #T_f179f_row1_col3, #T_f179f_row5_col2, #T_f179f_row5_col3 {\n",
       "  background-color: #007b03;\n",
       "  color: #f1f1f1;\n",
       "}\n",
       "#T_f179f_row4_col1, #T_f179f_row4_col2, #T_f179f_row4_col3 {\n",
       "  background-color: #007e01;\n",
       "  color: #f1f1f1;\n",
       "}\n",
       "#T_f179f_row6_col3 {\n",
       "  background-color: #005890;\n",
       "  color: #f1f1f1;\n",
       "}\n",
       "#T_f179f_row7_col1 {\n",
       "  background-color: #006f0b;\n",
       "  color: #f1f1f1;\n",
       "}\n",
       "#T_f179f_row7_col2 {\n",
       "  background-color: #007408;\n",
       "  color: #f1f1f1;\n",
       "}\n",
       "#T_f179f_row7_col3 {\n",
       "  background-color: #007606;\n",
       "  color: #f1f1f1;\n",
       "}\n",
       "</style>\n",
       "<table id=\"T_f179f\">\n",
       "  <thead>\n",
       "    <tr>\n",
       "      <th class=\"blank level0\" >&nbsp;</th>\n",
       "      <th id=\"T_f179f_level0_col0\" class=\"col_heading level0 col0\" >PublishedDate</th>\n",
       "      <th id=\"T_f179f_level0_col1\" class=\"col_heading level0 col1\" >Views</th>\n",
       "      <th id=\"T_f179f_level0_col2\" class=\"col_heading level0 col2\" >Likes</th>\n",
       "      <th id=\"T_f179f_level0_col3\" class=\"col_heading level0 col3\" >Comments</th>\n",
       "    </tr>\n",
       "  </thead>\n",
       "  <tbody>\n",
       "    <tr>\n",
       "      <th id=\"T_f179f_level0_row0\" class=\"row_heading level0 row0\" >count</th>\n",
       "      <td id=\"T_f179f_row0_col0\" class=\"data row0 col0\" >6151</td>\n",
       "      <td id=\"T_f179f_row0_col1\" class=\"data row0 col1\" >6151.000000</td>\n",
       "      <td id=\"T_f179f_row0_col2\" class=\"data row0 col2\" >6151.000000</td>\n",
       "      <td id=\"T_f179f_row0_col3\" class=\"data row0 col3\" >6151.000000</td>\n",
       "    </tr>\n",
       "    <tr>\n",
       "      <th id=\"T_f179f_level0_row1\" class=\"row_heading level0 row1\" >mean</th>\n",
       "      <td id=\"T_f179f_row1_col0\" class=\"data row1 col0\" >2019-02-18 20:37:43.827019776</td>\n",
       "      <td id=\"T_f179f_row1_col1\" class=\"data row1 col1\" >52208.953016</td>\n",
       "      <td id=\"T_f179f_row1_col2\" class=\"data row1 col2\" >935.637132</td>\n",
       "      <td id=\"T_f179f_row1_col3\" class=\"data row1 col3\" >72.171029</td>\n",
       "    </tr>\n",
       "    <tr>\n",
       "      <th id=\"T_f179f_level0_row2\" class=\"row_heading level0 row2\" >min</th>\n",
       "      <td id=\"T_f179f_row2_col0\" class=\"data row2 col0\" >2006-10-25 00:00:00</td>\n",
       "      <td id=\"T_f179f_row2_col1\" class=\"data row2 col1\" >0.000000</td>\n",
       "      <td id=\"T_f179f_row2_col2\" class=\"data row2 col2\" >0.000000</td>\n",
       "      <td id=\"T_f179f_row2_col3\" class=\"data row2 col3\" >0.000000</td>\n",
       "    </tr>\n",
       "    <tr>\n",
       "      <th id=\"T_f179f_level0_row3\" class=\"row_heading level0 row3\" >25%</th>\n",
       "      <td id=\"T_f179f_row3_col0\" class=\"data row3 col0\" >2017-07-07 00:00:00</td>\n",
       "      <td id=\"T_f179f_row3_col1\" class=\"data row3 col1\" >5017.500000</td>\n",
       "      <td id=\"T_f179f_row3_col2\" class=\"data row3 col2\" >83.000000</td>\n",
       "      <td id=\"T_f179f_row3_col3\" class=\"data row3 col3\" >7.000000</td>\n",
       "    </tr>\n",
       "    <tr>\n",
       "      <th id=\"T_f179f_level0_row4\" class=\"row_heading level0 row4\" >50%</th>\n",
       "      <td id=\"T_f179f_row4_col0\" class=\"data row4 col0\" >2019-09-08 00:00:00</td>\n",
       "      <td id=\"T_f179f_row4_col1\" class=\"data row4 col1\" >16606.000000</td>\n",
       "      <td id=\"T_f179f_row4_col2\" class=\"data row4 col2\" >313.000000</td>\n",
       "      <td id=\"T_f179f_row4_col3\" class=\"data row4 col3\" >27.000000</td>\n",
       "    </tr>\n",
       "    <tr>\n",
       "      <th id=\"T_f179f_level0_row5\" class=\"row_heading level0 row5\" >75%</th>\n",
       "      <td id=\"T_f179f_row5_col0\" class=\"data row5 col0\" >2021-05-27 00:00:00</td>\n",
       "      <td id=\"T_f179f_row5_col1\" class=\"data row5 col1\" >52116.500000</td>\n",
       "      <td id=\"T_f179f_row5_col2\" class=\"data row5 col2\" >926.000000</td>\n",
       "      <td id=\"T_f179f_row5_col3\" class=\"data row5 col3\" >80.000000</td>\n",
       "    </tr>\n",
       "    <tr>\n",
       "      <th id=\"T_f179f_level0_row6\" class=\"row_heading level0 row6\" >max</th>\n",
       "      <td id=\"T_f179f_row6_col0\" class=\"data row6 col0\" >2023-10-27 00:00:00</td>\n",
       "      <td id=\"T_f179f_row6_col1\" class=\"data row6 col1\" >2689040.000000</td>\n",
       "      <td id=\"T_f179f_row6_col2\" class=\"data row6 col2\" >64750.000000</td>\n",
       "      <td id=\"T_f179f_row6_col3\" class=\"data row6 col3\" >3478.000000</td>\n",
       "    </tr>\n",
       "    <tr>\n",
       "      <th id=\"T_f179f_level0_row7\" class=\"row_heading level0 row7\" >std</th>\n",
       "      <td id=\"T_f179f_row7_col0\" class=\"data row7 col0\" >nan</td>\n",
       "      <td id=\"T_f179f_row7_col1\" class=\"data row7 col1\" >118031.753789</td>\n",
       "      <td id=\"T_f179f_row7_col2\" class=\"data row7 col2\" >2243.596155</td>\n",
       "      <td id=\"T_f179f_row7_col3\" class=\"data row7 col3\" >144.250349</td>\n",
       "    </tr>\n",
       "  </tbody>\n",
       "</table>\n"
      ],
      "text/plain": [
       "<pandas.io.formats.style.Styler at 0x1cc10bfec10>"
      ]
     },
     "execution_count": 13,
     "metadata": {},
     "output_type": "execute_result"
    }
   ],
   "source": [
    "# Some basics statistics analysis\n",
    "data.describe().style.background_gradient(cmap='ocean')"
   ]
  },
  {
   "cell_type": "code",
   "execution_count": 14,
   "metadata": {},
   "outputs": [
    {
     "data": {
      "text/plain": [
       "Channel            12\n",
       "Title            6113\n",
       "PublishedDate    2621\n",
       "Views            5785\n",
       "Likes            2061\n",
       "Comments          493\n",
       "dtype: int64"
      ]
     },
     "execution_count": 14,
     "metadata": {},
     "output_type": "execute_result"
    }
   ],
   "source": [
    "data.nunique()"
   ]
  },
  {
   "cell_type": "markdown",
   "metadata": {},
   "source": [
    "# Explore data analysis"
   ]
  },
  {
   "cell_type": "markdown",
   "metadata": {},
   "source": [
    "### Questions asked from the data\n",
    "\n",
    "* identify and datetime the youtube channel renowned for educational   content on Ai or Ds.\n",
    "* identify the most frequently occurring concepts in videos and list the top 10 with the highest repetition.\n",
    "* identify and analyze the available options or feature related to views in the datasets.\n",
    "* compile a list of the top 10 youtube channels along with their respective views based on the datasets."
   ]
  },
  {
   "cell_type": "code",
   "execution_count": 15,
   "metadata": {},
   "outputs": [
    {
     "data": {
      "text/plain": [
       "array(['Jeff Heaton', 'Arxiv Insights', 'Daniel Bourke',\n",
       "       'Artificial Intelligence — All in One', 'Siraj Raval',\n",
       "       'Nicholas Renotte', 'Jeremy Howard', 'Applied AI Course',\n",
       "       'DeepLearning.TV', 'DeepLearningAI', 'Sentdex', 'Krish Naik'],\n",
       "      dtype=object)"
      ]
     },
     "execution_count": 15,
     "metadata": {},
     "output_type": "execute_result"
    }
   ],
   "source": [
    "data['Channel'].unique()"
   ]
  },
  {
   "cell_type": "code",
   "execution_count": 16,
   "metadata": {},
   "outputs": [],
   "source": [
    "data['Channel'].value_counts().sort_values(ascending=False).plot(kind='bar', figsize=(10,8));\n",
    "plt.title('most popular youtubr channels for Ai courses')\n",
    "plt.xlabel('Channel names')\n",
    "plt.ylabel('values');"
   ]
  },
  {
   "cell_type": "code",
   "execution_count": 17,
   "metadata": {},
   "outputs": [
    {
     "data": {
      "text/html": [
       "<div>\n",
       "<style scoped>\n",
       "    .dataframe tbody tr th:only-of-type {\n",
       "        vertical-align: middle;\n",
       "    }\n",
       "\n",
       "    .dataframe tbody tr th {\n",
       "        vertical-align: top;\n",
       "    }\n",
       "\n",
       "    .dataframe thead th {\n",
       "        text-align: right;\n",
       "    }\n",
       "</style>\n",
       "<table border=\"1\" class=\"dataframe\">\n",
       "  <thead>\n",
       "    <tr style=\"text-align: right;\">\n",
       "      <th></th>\n",
       "      <th>count</th>\n",
       "    </tr>\n",
       "    <tr>\n",
       "      <th>Title</th>\n",
       "      <th></th>\n",
       "    </tr>\n",
       "  </thead>\n",
       "  <tbody>\n",
       "    <tr>\n",
       "      <th>Live Q&amp;A Data Science</th>\n",
       "      <td>5</td>\n",
       "    </tr>\n",
       "    <tr>\n",
       "      <th>Kaggle Challenge (LIVE)</th>\n",
       "      <td>3</td>\n",
       "    </tr>\n",
       "    <tr>\n",
       "      <th>Live Q&amp;A- Ask Anything Related Data Science</th>\n",
       "      <td>3</td>\n",
       "    </tr>\n",
       "    <tr>\n",
       "      <th>Quantum Machine Learning (LIVE)</th>\n",
       "      <td>3</td>\n",
       "    </tr>\n",
       "    <tr>\n",
       "      <th>LIVE: Machine Learning projects for your career transition (based on your current role)</th>\n",
       "      <td>2</td>\n",
       "    </tr>\n",
       "    <tr>\n",
       "      <th>Are courses enough for a job? | Machine learning engineer livestream Q&amp;A</th>\n",
       "      <td>2</td>\n",
       "    </tr>\n",
       "    <tr>\n",
       "      <th>Various Roles and Responsibilities in Data Science</th>\n",
       "      <td>2</td>\n",
       "    </tr>\n",
       "    <tr>\n",
       "      <th>The Trust That Binds</th>\n",
       "      <td>2</td>\n",
       "    </tr>\n",
       "    <tr>\n",
       "      <th>Introduction to PyTorch for Deep Learning with Python (3.2)</th>\n",
       "      <td>2</td>\n",
       "    </tr>\n",
       "    <tr>\n",
       "      <th>Complete Life Cycle of a Data Science Project</th>\n",
       "      <td>2</td>\n",
       "    </tr>\n",
       "  </tbody>\n",
       "</table>\n",
       "</div>"
      ],
      "text/plain": [
       "                                                    count\n",
       "Title                                                    \n",
       "Live Q&A Data Science                                   5\n",
       "Kaggle Challenge (LIVE)                                 3\n",
       "Live Q&A- Ask Anything Related Data Science             3\n",
       "Quantum Machine Learning (LIVE)                         3\n",
       "LIVE: Machine Learning projects for your career...      2\n",
       "Are courses enough for a job? | Machine learnin...      2\n",
       "Various Roles and Responsibilities in Data Science      2\n",
       "The Trust That Binds                                    2\n",
       "Introduction to PyTorch for Deep Learning with ...      2\n",
       "Complete Life Cycle of a Data Science Project           2"
      ]
     },
     "execution_count": 17,
     "metadata": {},
     "output_type": "execute_result"
    }
   ],
   "source": [
    "# most popular topics and repeted topics in the youtube channels\n",
    "pd.DataFrame(data['Title'].value_counts().head(10))"
   ]
  },
  {
   "cell_type": "code",
   "execution_count": 18,
   "metadata": {},
   "outputs": [],
   "source": [
    "data['Title'].value_counts().head(10).plot(kind='bar', figsize=(10,8))\n",
    "plt.title('most popular courses names')\n",
    "plt.xlabel('Title');\n",
    "plt.ylabel('values');\n"
   ]
  },
  {
   "cell_type": "code",
   "execution_count": 19,
   "metadata": {},
   "outputs": [],
   "source": [
    "data['Views'].value_counts().head(10).plot(kind='bar', figsize=(10,8));\n",
    "plt.title('visualize the youtube views with videos')\n",
    "plt.xlabel('Views')\n",
    "plt.ylabel('count of values');"
   ]
  },
  {
   "cell_type": "code",
   "execution_count": 20,
   "metadata": {},
   "outputs": [],
   "source": [
    "data.groupby(['Channel'])['Views'].sum().sort_values(ascending=False).head(10).plot(kind='bar', figsize=(10,5))\n",
    "plt.title('Top youtube channel with their views')\n",
    "plt.xlabel('channels names')\n",
    "plt.ylabel('count of views');"
   ]
  },
  {
   "cell_type": "markdown",
   "metadata": {},
   "source": [
    "# Observation\n",
    "\n",
    "* Krish Nalk's channel is the most popular channel for data science in the dataset.\n",
    "* (Live Questions related to data science) & (kaggle challenges) are repeated concepts.\n",
    "* Videos with 0 views have been repeated more times compared to others.\n",
    "* Sentdex's youtube channel has the highest views, following by Krish Naik, who takes the second place."
   ]
  },
  {
   "cell_type": "markdown",
   "metadata": {},
   "source": [
    "### Again some basic question asked from the data\n",
    "\n",
    "* identify the most -viewed channel and create a new column categorizing followers into high mediun, and low.\n",
    "* Analyze the dataset to find the day when the most videos were posted.\n",
    "* Compile a list of the top 10 videos with the highest views based on their titles."
   ]
  },
  {
   "cell_type": "code",
   "execution_count": 21,
   "metadata": {},
   "outputs": [],
   "source": [
    "channel_views = pd.DataFrame(data.groupby(['Channel'])['Views'].sum().sort_values(ascending=False))\n",
    "\n",
    "def find_channel(values):\n",
    "    if values > 50000000:\n",
    "        return 'Most views channel'\n",
    "    if 10000000 < values < 50000000:\n",
    "        return \"Channel with mediun followers\"\n",
    "    if values < 10000000:\n",
    "        return \"Channel with less followers\""
   ]
  },
  {
   "cell_type": "code",
   "execution_count": 22,
   "metadata": {},
   "outputs": [],
   "source": [
    "channel_views['Channel_categorys'] = channel_views['Views'].apply(find_channel)"
   ]
  },
  {
   "cell_type": "code",
   "execution_count": 23,
   "metadata": {},
   "outputs": [
    {
     "data": {
      "text/html": [
       "<style type=\"text/css\">\n",
       "#T_2791a_row0_col0 {\n",
       "  background-color: #006837;\n",
       "  color: #f1f1f1;\n",
       "}\n",
       "#T_2791a_row1_col0 {\n",
       "  background-color: #8ccd67;\n",
       "  color: #000000;\n",
       "}\n",
       "#T_2791a_row2_col0 {\n",
       "  background-color: #feea9b;\n",
       "  color: #000000;\n",
       "}\n",
       "#T_2791a_row3_col0 {\n",
       "  background-color: #dd3d2d;\n",
       "  color: #f1f1f1;\n",
       "}\n",
       "#T_2791a_row4_col0, #T_2791a_row5_col0 {\n",
       "  background-color: #d62f27;\n",
       "  color: #f1f1f1;\n",
       "}\n",
       "#T_2791a_row6_col0, #T_2791a_row7_col0 {\n",
       "  background-color: #be1827;\n",
       "  color: #f1f1f1;\n",
       "}\n",
       "#T_2791a_row8_col0 {\n",
       "  background-color: #b91326;\n",
       "  color: #f1f1f1;\n",
       "}\n",
       "#T_2791a_row9_col0 {\n",
       "  background-color: #af0926;\n",
       "  color: #f1f1f1;\n",
       "}\n",
       "#T_2791a_row10_col0 {\n",
       "  background-color: #ad0826;\n",
       "  color: #f1f1f1;\n",
       "}\n",
       "#T_2791a_row11_col0 {\n",
       "  background-color: #a50026;\n",
       "  color: #f1f1f1;\n",
       "}\n",
       "</style>\n",
       "<table id=\"T_2791a\">\n",
       "  <thead>\n",
       "    <tr>\n",
       "      <th class=\"blank level0\" >&nbsp;</th>\n",
       "      <th id=\"T_2791a_level0_col0\" class=\"col_heading level0 col0\" >Views</th>\n",
       "      <th id=\"T_2791a_level0_col1\" class=\"col_heading level0 col1\" >Channel_categorys</th>\n",
       "    </tr>\n",
       "    <tr>\n",
       "      <th class=\"index_name level0\" >Channel</th>\n",
       "      <th class=\"blank col0\" >&nbsp;</th>\n",
       "      <th class=\"blank col1\" >&nbsp;</th>\n",
       "    </tr>\n",
       "  </thead>\n",
       "  <tbody>\n",
       "    <tr>\n",
       "      <th id=\"T_2791a_level0_row0\" class=\"row_heading level0 row0\" >Sentdex</th>\n",
       "      <td id=\"T_2791a_row0_col0\" class=\"data row0 col0\" >112159185</td>\n",
       "      <td id=\"T_2791a_row0_col1\" class=\"data row0 col1\" >Most views channel</td>\n",
       "    </tr>\n",
       "    <tr>\n",
       "      <th id=\"T_2791a_level0_row1\" class=\"row_heading level0 row1\" >Krish Naik</th>\n",
       "      <td id=\"T_2791a_row1_col0\" class=\"data row1 col0\" >83635593</td>\n",
       "      <td id=\"T_2791a_row1_col1\" class=\"data row1 col1\" >Most views channel</td>\n",
       "    </tr>\n",
       "    <tr>\n",
       "      <th id=\"T_2791a_level0_row2\" class=\"row_heading level0 row2\" >Siraj Raval</th>\n",
       "      <td id=\"T_2791a_row2_col0\" class=\"data row2 col0\" >49804096</td>\n",
       "      <td id=\"T_2791a_row2_col1\" class=\"data row2 col1\" >Channel with mediun followers</td>\n",
       "    </tr>\n",
       "    <tr>\n",
       "      <th id=\"T_2791a_level0_row3\" class=\"row_heading level0 row3\" >DeepLearningAI</th>\n",
       "      <td id=\"T_2791a_row3_col0\" class=\"data row3 col0\" >15875334</td>\n",
       "      <td id=\"T_2791a_row3_col1\" class=\"data row3 col1\" >Channel with mediun followers</td>\n",
       "    </tr>\n",
       "    <tr>\n",
       "      <th id=\"T_2791a_level0_row4\" class=\"row_heading level0 row4\" >Nicholas Renotte</th>\n",
       "      <td id=\"T_2791a_row4_col0\" class=\"data row4 col0\" >13255443</td>\n",
       "      <td id=\"T_2791a_row4_col1\" class=\"data row4 col1\" >Channel with mediun followers</td>\n",
       "    </tr>\n",
       "    <tr>\n",
       "      <th id=\"T_2791a_level0_row5\" class=\"row_heading level0 row5\" >Applied AI Course</th>\n",
       "      <td id=\"T_2791a_row5_col0\" class=\"data row5 col0\" >13194574</td>\n",
       "      <td id=\"T_2791a_row5_col1\" class=\"data row5 col1\" >Channel with mediun followers</td>\n",
       "    </tr>\n",
       "    <tr>\n",
       "      <th id=\"T_2791a_level0_row6\" class=\"row_heading level0 row6\" >Jeremy Howard</th>\n",
       "      <td id=\"T_2791a_row6_col0\" class=\"data row6 col0\" >7894444</td>\n",
       "      <td id=\"T_2791a_row6_col1\" class=\"data row6 col1\" >Channel with less followers</td>\n",
       "    </tr>\n",
       "    <tr>\n",
       "      <th id=\"T_2791a_level0_row7\" class=\"row_heading level0 row7\" >Daniel Bourke</th>\n",
       "      <td id=\"T_2791a_row7_col0\" class=\"data row7 col0\" >7857301</td>\n",
       "      <td id=\"T_2791a_row7_col1\" class=\"data row7 col1\" >Channel with less followers</td>\n",
       "    </tr>\n",
       "    <tr>\n",
       "      <th id=\"T_2791a_level0_row8\" class=\"row_heading level0 row8\" >Jeff Heaton</th>\n",
       "      <td id=\"T_2791a_row8_col0\" class=\"data row8 col0\" >6600032</td>\n",
       "      <td id=\"T_2791a_row8_col1\" class=\"data row8 col1\" >Channel with less followers</td>\n",
       "    </tr>\n",
       "    <tr>\n",
       "      <th id=\"T_2791a_level0_row9\" class=\"row_heading level0 row9\" >DeepLearning.TV</th>\n",
       "      <td id=\"T_2791a_row9_col0\" class=\"data row9 col0\" >4375619</td>\n",
       "      <td id=\"T_2791a_row9_col1\" class=\"data row9 col1\" >Channel with less followers</td>\n",
       "    </tr>\n",
       "    <tr>\n",
       "      <th id=\"T_2791a_level0_row10\" class=\"row_heading level0 row10\" >Artificial Intelligence — All in One</th>\n",
       "      <td id=\"T_2791a_row10_col0\" class=\"data row10 col0\" >4301690</td>\n",
       "      <td id=\"T_2791a_row10_col1\" class=\"data row10 col1\" >Channel with less followers</td>\n",
       "    </tr>\n",
       "    <tr>\n",
       "      <th id=\"T_2791a_level0_row11\" class=\"row_heading level0 row11\" >Arxiv Insights</th>\n",
       "      <td id=\"T_2791a_row11_col0\" class=\"data row11 col0\" >2183959</td>\n",
       "      <td id=\"T_2791a_row11_col1\" class=\"data row11 col1\" >Channel with less followers</td>\n",
       "    </tr>\n",
       "  </tbody>\n",
       "</table>\n"
      ],
      "text/plain": [
       "<pandas.io.formats.style.Styler at 0x1cc1599d610>"
      ]
     },
     "execution_count": 23,
     "metadata": {},
     "output_type": "execute_result"
    }
   ],
   "source": [
    "channel_views.style.background_gradient(cmap='RdYlGn')"
   ]
  },
  {
   "cell_type": "code",
   "execution_count": 24,
   "metadata": {},
   "outputs": [],
   "source": [
    "# let's find the which date most videos published\n",
    "data['PublishedDate'].value_counts().plot(kind='line', color=['#2ec4b6'])\n",
    "plt.title('The periods in which it has been published')\n",
    "plt.xlabel('years')\n",
    "plt.ylabel('count of values');"
   ]
  },
  {
   "cell_type": "code",
   "execution_count": 25,
   "metadata": {},
   "outputs": [],
   "source": [
    "# The 10 most days of publishing\n",
    "data['PublishedDate'].value_counts().head(10).plot(kind='bar', figsize=(10,8))\n",
    "plt.title('Top most days of publishing')\n",
    "plt.xlabel('days')\n",
    "plt.ylabel('count of values');"
   ]
  },
  {
   "cell_type": "code",
   "execution_count": 26,
   "metadata": {},
   "outputs": [],
   "source": [
    "top_10_most_wacthed_videos = pd.DataFrame(data.groupby(['Title'])['Views'].sum().sort_values(ascending=False))"
   ]
  },
  {
   "cell_type": "code",
   "execution_count": 27,
   "metadata": {},
   "outputs": [
    {
     "data": {
      "text/html": [
       "<style type=\"text/css\">\n",
       "#T_a3239_row0_col0 {\n",
       "  background-color: #0000ff;\n",
       "  color: #f1f1f1;\n",
       "}\n",
       "#T_a3239_row1_col0 {\n",
       "  background-color: #0808ff;\n",
       "  color: #f1f1f1;\n",
       "}\n",
       "#T_a3239_row2_col0 {\n",
       "  background-color: #ff8484;\n",
       "  color: #f1f1f1;\n",
       "}\n",
       "#T_a3239_row3_col0 {\n",
       "  background-color: #ff7c7c;\n",
       "  color: #f1f1f1;\n",
       "}\n",
       "#T_a3239_row4_col0 {\n",
       "  background-color: #ff7878;\n",
       "  color: #f1f1f1;\n",
       "}\n",
       "#T_a3239_row5_col0 {\n",
       "  background-color: #ff6c6c;\n",
       "  color: #f1f1f1;\n",
       "}\n",
       "#T_a3239_row6_col0 {\n",
       "  background-color: #ff6060;\n",
       "  color: #f1f1f1;\n",
       "}\n",
       "#T_a3239_row7_col0 {\n",
       "  background-color: #ff2a2a;\n",
       "  color: #f1f1f1;\n",
       "}\n",
       "#T_a3239_row8_col0 {\n",
       "  background-color: #ff1818;\n",
       "  color: #f1f1f1;\n",
       "}\n",
       "#T_a3239_row9_col0 {\n",
       "  background-color: #ff0000;\n",
       "  color: #f1f1f1;\n",
       "}\n",
       "</style>\n",
       "<table id=\"T_a3239\">\n",
       "  <thead>\n",
       "    <tr>\n",
       "      <th class=\"blank level0\" >&nbsp;</th>\n",
       "      <th id=\"T_a3239_level0_col0\" class=\"col_heading level0 col0\" >Views</th>\n",
       "    </tr>\n",
       "    <tr>\n",
       "      <th class=\"index_name level0\" >Title</th>\n",
       "      <th class=\"blank col0\" >&nbsp;</th>\n",
       "    </tr>\n",
       "  </thead>\n",
       "  <tbody>\n",
       "    <tr>\n",
       "      <th id=\"T_a3239_level0_row0\" class=\"row_heading level0 row0\" >AI VS ML VS DL VS Data Science</th>\n",
       "      <td id=\"T_a3239_row0_col0\" class=\"data row0 col0\" >2689040</td>\n",
       "    </tr>\n",
       "    <tr>\n",
       "      <th id=\"T_a3239_level0_row1\" class=\"row_heading level0 row1\" >Practical Machine Learning Tutorial with Python Intro p.1</th>\n",
       "      <td id=\"T_a3239_row1_col0\" class=\"data row1 col0\" >2665790</td>\n",
       "    </tr>\n",
       "    <tr>\n",
       "      <th id=\"T_a3239_level0_row2\" class=\"row_heading level0 row2\" >Complete Road Map To Be Expert In Python- Follow My Way</th>\n",
       "      <td id=\"T_a3239_row2_col0\" class=\"data row2 col0\" >1640772</td>\n",
       "    </tr>\n",
       "    <tr>\n",
       "      <th id=\"T_a3239_level0_row3\" class=\"row_heading level0 row3\" >How To Learn Data Science Smartly?</th>\n",
       "      <td id=\"T_a3239_row3_col0\" class=\"data row3 col0\" >1617866</td>\n",
       "    </tr>\n",
       "    <tr>\n",
       "      <th id=\"T_a3239_level0_row4\" class=\"row_heading level0 row4\" >Prakhar Raj Become Data Scientist at Simpl | Data Scientist Interview | Applied Ai Course Reviews</th>\n",
       "      <td id=\"T_a3239_row4_col0\" class=\"data row4 col0\" >1605793</td>\n",
       "    </tr>\n",
       "    <tr>\n",
       "      <th id=\"T_a3239_level0_row5\" class=\"row_heading level0 row5\" >Self driving car neural network in the city - Python plays GTA with Tensor Flow p.14</th>\n",
       "      <td id=\"T_a3239_row5_col0\" class=\"data row5 col0\" >1573086</td>\n",
       "    </tr>\n",
       "    <tr>\n",
       "      <th id=\"T_a3239_level0_row6\" class=\"row_heading level0 row6\" >I Built a Trading Bot with ChatGPT</th>\n",
       "      <td id=\"T_a3239_row6_col0\" class=\"data row6 col0\" >1538575</td>\n",
       "    </tr>\n",
       "    <tr>\n",
       "      <th id=\"T_a3239_level0_row7\" class=\"row_heading level0 row7\" >Regression Intro - Practical Machine Learning Tutorial with Python p.2</th>\n",
       "      <td id=\"T_a3239_row7_col0\" class=\"data row7 col0\" >1391530</td>\n",
       "    </tr>\n",
       "    <tr>\n",
       "      <th id=\"T_a3239_level0_row8\" class=\"row_heading level0 row8\" >YOLO Object Detection (TensorFlow tutorial)</th>\n",
       "      <td id=\"T_a3239_row8_col0\" class=\"data row8 col0\" >1340082</td>\n",
       "    </tr>\n",
       "    <tr>\n",
       "      <th id=\"T_a3239_level0_row9\" class=\"row_heading level0 row9\" >TensorFlow in 5 Minutes (tutorial)</th>\n",
       "      <td id=\"T_a3239_row9_col0\" class=\"data row9 col0\" >1270660</td>\n",
       "    </tr>\n",
       "  </tbody>\n",
       "</table>\n"
      ],
      "text/plain": [
       "<pandas.io.formats.style.Styler at 0x1cc15a41110>"
      ]
     },
     "execution_count": 27,
     "metadata": {},
     "output_type": "execute_result"
    }
   ],
   "source": [
    "top_10_most_wacthed_videos.head(10).style.background_gradient(cmap='bwr_r')"
   ]
  },
  {
   "cell_type": "code",
   "execution_count": 28,
   "metadata": {},
   "outputs": [],
   "source": [
    "# which channel recived hidhest comments \n",
    "data.groupby('Channel')['Comments'].sum().sort_values(ascending=False).plot(kind='bar', figsize=(10,5))\n",
    "plt.title('highest comments received channels')\n",
    "plt.xlabel('Channel names')\n",
    "plt.ylabel('count of Comments');\n"
   ]
  },
  {
   "cell_type": "code",
   "execution_count": 29,
   "metadata": {},
   "outputs": [],
   "source": [
    "# which Title recived hidhest comments \n",
    "data.groupby('Title')['Comments'].sum().sort_values(ascending=False).head(10).plot(kind='bar')\n",
    "plt.title('highest comments received videos')\n",
    "plt.xlabel('title video')\n",
    "plt.ylabel('count of Comments');"
   ]
  },
  {
   "cell_type": "code",
   "execution_count": 30,
   "metadata": {},
   "outputs": [],
   "source": [
    "# let's find top 10 most views videos for sentex\n",
    "sentdex = data[data['Channel'] == 'Sentdex']"
   ]
  },
  {
   "cell_type": "code",
   "execution_count": 31,
   "metadata": {},
   "outputs": [],
   "source": [
    "top_sentdex = pd.DataFrame(sentdex.groupby(['Title'])['Views'].sum().sort_values(ascending=False))"
   ]
  },
  {
   "cell_type": "code",
   "execution_count": 32,
   "metadata": {},
   "outputs": [
    {
     "data": {
      "text/html": [
       "<style type=\"text/css\">\n",
       "#T_25ee1_row0_col0 {\n",
       "  background-color: #000000;\n",
       "  color: #f1f1f1;\n",
       "}\n",
       "#T_25ee1_row1_col0 {\n",
       "  background-color: #ff5ca3;\n",
       "  color: #f1f1f1;\n",
       "}\n",
       "#T_25ee1_row2_col0 {\n",
       "  background-color: #ff8e71;\n",
       "  color: #000000;\n",
       "}\n",
       "#T_25ee1_row3_col0 {\n",
       "  background-color: #ffb847;\n",
       "  color: #000000;\n",
       "}\n",
       "#T_25ee1_row4_col0 {\n",
       "  background-color: #ffbe41;\n",
       "  color: #000000;\n",
       "}\n",
       "#T_25ee1_row5_col0 {\n",
       "  background-color: #ffe01f;\n",
       "  color: #000000;\n",
       "}\n",
       "#T_25ee1_row6_col0 {\n",
       "  background-color: #ffe41b;\n",
       "  color: #000000;\n",
       "}\n",
       "#T_25ee1_row7_col0 {\n",
       "  background-color: #ffff43;\n",
       "  color: #000000;\n",
       "}\n",
       "#T_25ee1_row8_col0 {\n",
       "  background-color: #fffff3;\n",
       "  color: #000000;\n",
       "}\n",
       "#T_25ee1_row9_col0 {\n",
       "  background-color: #ffffff;\n",
       "  color: #000000;\n",
       "}\n",
       "</style>\n",
       "<table id=\"T_25ee1\">\n",
       "  <thead>\n",
       "    <tr>\n",
       "      <th class=\"blank level0\" >&nbsp;</th>\n",
       "      <th id=\"T_25ee1_level0_col0\" class=\"col_heading level0 col0\" >Views</th>\n",
       "    </tr>\n",
       "    <tr>\n",
       "      <th class=\"index_name level0\" >Title</th>\n",
       "      <th class=\"blank col0\" >&nbsp;</th>\n",
       "    </tr>\n",
       "  </thead>\n",
       "  <tbody>\n",
       "    <tr>\n",
       "      <th id=\"T_25ee1_level0_row0\" class=\"row_heading level0 row0\" >Practical Machine Learning Tutorial with Python Intro p.1</th>\n",
       "      <td id=\"T_25ee1_row0_col0\" class=\"data row0 col0\" >2665790</td>\n",
       "    </tr>\n",
       "    <tr>\n",
       "      <th id=\"T_25ee1_level0_row1\" class=\"row_heading level0 row1\" >Self driving car neural network in the city - Python plays GTA with Tensor Flow p.14</th>\n",
       "      <td id=\"T_25ee1_row1_col0\" class=\"data row1 col0\" >1573086</td>\n",
       "    </tr>\n",
       "    <tr>\n",
       "      <th id=\"T_25ee1_level0_row2\" class=\"row_heading level0 row2\" >Regression Intro - Practical Machine Learning Tutorial with Python p.2</th>\n",
       "      <td id=\"T_25ee1_row2_col0\" class=\"data row2 col0\" >1391530</td>\n",
       "    </tr>\n",
       "    <tr>\n",
       "      <th id=\"T_25ee1_level0_row3\" class=\"row_heading level0 row3\" >Deep Learning with Python, TensorFlow, and Keras tutorial</th>\n",
       "      <td id=\"T_25ee1_row3_col0\" class=\"data row3 col0\" >1239057</td>\n",
       "    </tr>\n",
       "    <tr>\n",
       "      <th id=\"T_25ee1_level0_row4\" class=\"row_heading level0 row4\" >Neural Networks from Scratch - P.1 Intro and Neuron Code</th>\n",
       "      <td id=\"T_25ee1_row4_col0\" class=\"data row4 col0\" >1221616</td>\n",
       "    </tr>\n",
       "    <tr>\n",
       "      <th id=\"T_25ee1_level0_row5\" class=\"row_heading level0 row5\" >How to download and install Python Packages and Modules with Pip</th>\n",
       "      <td id=\"T_25ee1_row5_col0\" class=\"data row5 col0\" >1096700</td>\n",
       "    </tr>\n",
       "    <tr>\n",
       "      <th id=\"T_25ee1_level0_row6\" class=\"row_heading level0 row6\" >Introduction - Django Web Development with Python 1</th>\n",
       "      <td id=\"T_25ee1_row6_col0\" class=\"data row6 col0\" >1084268</td>\n",
       "    </tr>\n",
       "    <tr>\n",
       "      <th id=\"T_25ee1_level0_row7\" class=\"row_heading level0 row7\" >Game Development in Python 3 With PyGame - 1 - Intro</th>\n",
       "      <td id=\"T_25ee1_row7_col0\" class=\"data row7 col0\" >947122</td>\n",
       "    </tr>\n",
       "    <tr>\n",
       "      <th id=\"T_25ee1_level0_row8\" class=\"row_heading level0 row8\" >Loading in your own data - Deep Learning basics with Python, TensorFlow and Keras p.2</th>\n",
       "      <td id=\"T_25ee1_row8_col0\" class=\"data row8 col0\" >847508</td>\n",
       "    </tr>\n",
       "    <tr>\n",
       "      <th id=\"T_25ee1_level0_row9\" class=\"row_heading level0 row9\" >What I do for a living - Q&A #1</th>\n",
       "      <td id=\"T_25ee1_row9_col0\" class=\"data row9 col0\" >838703</td>\n",
       "    </tr>\n",
       "  </tbody>\n",
       "</table>\n"
      ],
      "text/plain": [
       "<pandas.io.formats.style.Styler at 0x1cc160b5dd0>"
      ]
     },
     "execution_count": 32,
     "metadata": {},
     "output_type": "execute_result"
    }
   ],
   "source": [
    "top_sentdex.head(10).style.background_gradient(cmap='gnuplot2_r')"
   ]
  },
  {
   "cell_type": "code",
   "execution_count": 33,
   "metadata": {},
   "outputs": [
    {
     "data": {
      "image/png": "[encoded data removed]",
      "text/plain": [
       "<Figure size 1000x500 with 1 Axes>"
      ]
     },
     "metadata": {},
     "output_type": "display_data"
    },
    {
     "data": {
      "image/png": "[encoded data removed]",
      "text/plain": [
       "<Figure size 1200x800 with 2 Axes>"
      ]
     },
     "metadata": {},
     "output_type": "display_data"
    }
   ],
   "source": [
    "# Correlation analysis\n",
    "numeric_data = data.select_dtypes(include=[np.number])\n",
    "correlation_matrix = numeric_data.corr()\n",
    "plt.figure(figsize=(12, 8))\n",
    "sns.heatmap(correlation_matrix, annot=True, cmap='coolwarm')\n",
    "plt.title('Correlation Matrix')\n",
    "plt.show()"
   ]
  }
 ],
 "metadata": {
  "kernelspec": {
   "display_name": "base",
   "language": "python",
   "name": "python3"
  },
  "language_info": {
   "codemirror_mode": {
    "name": "ipython",
    "version": 3
   },
   "file_extension": ".py",
   "mimetype": "text/x-python",
   "name": "python",
   "nbconvert_exporter": "python",
   "pygments_lexer": "ipython3",
   "version": "3.11.5"
  }
 },
 "nbformat": 4,
 "nbformat_minor": 2
}
